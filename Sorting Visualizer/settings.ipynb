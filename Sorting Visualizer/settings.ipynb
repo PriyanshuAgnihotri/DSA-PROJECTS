{
 "cells": [
  {
   "cell_type": "code",
   "execution_count": 2,
   "id": "54eaea9d",
   "metadata": {},
   "outputs": [],
   "source": [
    "WHITE = (225, 225, 225)\n",
    "BLACK = (0, 0, 0)\n",
    "RED = (225, 0, 0)\n",
    "GREEN = (0, 225, 0)\n",
    "PURPLE = (128,0,128)\n",
    "YELLOW = (255, 255, 0)\n",
    "\n",
    "FPS = 60\n",
    "WIDTH, HEIGHT = 700, 700\n",
    "TOOLBAR_HEIGHT = HEIGHT - WIDTH\n",
    "BG_COLOR = WHITE"
   ]
  },
  {
   "cell_type": "code",
   "execution_count": null,
   "id": "e0527aef",
   "metadata": {},
   "outputs": [],
   "source": []
  },
  {
   "cell_type": "code",
   "execution_count": null,
   "id": "a50845fa",
   "metadata": {},
   "outputs": [],
   "source": []
  }
 ],
 "metadata": {
  "kernelspec": {
   "display_name": "Python 3 (ipykernel)",
   "language": "python",
   "name": "python3"
  },
  "language_info": {
   "codemirror_mode": {
    "name": "ipython",
    "version": 3
   },
   "file_extension": ".py",
   "mimetype": "text/x-python",
   "name": "python",
   "nbconvert_exporter": "python",
   "pygments_lexer": "ipython3",
   "version": "3.9.13"
  }
 },
 "nbformat": 4,
 "nbformat_minor": 5
}
